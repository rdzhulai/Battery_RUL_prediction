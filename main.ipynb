{
  "cells": [
    {
      "cell_type": "markdown",
      "metadata": {
        "id": "view-in-github",
        "colab_type": "text"
      },
      "source": [
        "<a href=\"https://colab.research.google.com/github/rdzhulai/Battery_RUL_prediction/blob/main/main.ipynb\" target=\"_parent\"><img src=\"https://colab.research.google.com/assets/colab-badge.svg\" alt=\"Open In Colab\"/></a>"
      ]
    },
    {
      "cell_type": "code",
      "source": [
        "%pip install -q PyAV torchmetrics"
      ],
      "metadata": {
        "id": "KeDk7QQkzvVw"
      },
      "execution_count": 48,
      "outputs": []
    },
    {
      "cell_type": "code",
      "source": [
        "from google.colab import drive\n",
        "drive.mount('/content/drive')"
      ],
      "metadata": {
        "colab": {
          "base_uri": "https://localhost:8080/"
        },
        "id": "5UkmPXbSrrG1",
        "outputId": "a169584e-3360-473e-c7fe-2a6e85fec3e0"
      },
      "execution_count": 49,
      "outputs": [
        {
          "output_type": "stream",
          "name": "stdout",
          "text": [
            "Drive already mounted at /content/drive; to attempt to forcibly remount, call drive.mount(\"/content/drive\", force_remount=True).\n"
          ]
        }
      ]
    },
    {
      "cell_type": "code",
      "execution_count": 50,
      "metadata": {
        "id": "h4uJkdwLrl-n",
        "colab": {
          "base_uri": "https://localhost:8080/"
        },
        "outputId": "1a346223-26a0-44da-a822-297524c2255b"
      },
      "outputs": [
        {
          "output_type": "stream",
          "name": "stdout",
          "text": [
            "2.2.1+cu121 0.17.1+cu121\n"
          ]
        }
      ],
      "source": [
        "import os\n",
        "import torch\n",
        "import torch.nn as nn\n",
        "import torchvision\n",
        "import torchvision.transforms.v2 as T\n",
        "from torchvision.io import read_image, ImageReadMode\n",
        "from torchvision.models import inception_v3, Inception_V3_Weights\n",
        "from torchvision.models.optical_flow import raft_large, Raft_Large_Weights, Raft_Small_Weights, raft_small\n",
        "import pandas as pd\n",
        "import numpy as np\n",
        "from torch.utils.data import Dataset, DataLoader\n",
        "from tqdm.auto import tqdm\n",
        "from sklearn.model_selection import train_test_split\n",
        "from sklearn.metrics import accuracy_score, precision_score, recall_score, f1_score, classification_report, confusion_matrix, ConfusionMatrixDisplay\n",
        "import matplotlib.pyplot as plt\n",
        "import torchmetrics\n",
        "\n",
        "print(torch.__version__, torchvision.__version__)"
      ]
    },
    {
      "cell_type": "code",
      "source": [
        "device = torch.device(\"cuda\" if torch.cuda.is_available() else \"cpu\")\n",
        "print(device)"
      ],
      "metadata": {
        "colab": {
          "base_uri": "https://localhost:8080/"
        },
        "id": "fyFpu1ES1FOo",
        "outputId": "c5d336c3-137f-4616-8f31-db4de4e9959e"
      },
      "execution_count": 51,
      "outputs": [
        {
          "output_type": "stream",
          "name": "stdout",
          "text": [
            "cuda\n"
          ]
        }
      ]
    },
    {
      "cell_type": "code",
      "execution_count": 52,
      "metadata": {
        "id": "e-AZY_qBrl-p"
      },
      "outputs": [],
      "source": [
        "BATCH_SIZE = 1\n",
        "EPOCHS = 1\n",
        "\n",
        "FRAME_WIDTH = 288\n",
        "FRAME_HEIGHT = 296\n",
        "\n",
        "MAX_SEQ_LENGTH = 5\n",
        "TEMPORAL_STEP = 10\n",
        "\n",
        "DATA_DIR_PATH = \"/content/drive/MyDrive/sliding-classifier/train_data\"\n",
        "SLIDING_METAFILE_PATH = \"/content/drive/MyDrive/sliding-classifier/sliding_metafile.csv\""
      ]
    },
    {
      "cell_type": "code",
      "source": [
        "df = pd.read_csv(SLIDING_METAFILE_PATH)\n",
        "print(f\"{len(df[df['video_class'] == 'ls_p'])} vs {len(df[df['video_class'] == 'ls_a'])}\")"
      ],
      "metadata": {
        "colab": {
          "base_uri": "https://localhost:8080/"
        },
        "id": "iQP9CMM-_gDF",
        "outputId": "a2b2cf77-60ab-493c-a1ec-08957c91ab19"
      },
      "execution_count": 53,
      "outputs": [
        {
          "output_type": "stream",
          "name": "stdout",
          "text": [
            "139 vs 32\n"
          ]
        }
      ]
    },
    {
      "cell_type": "code",
      "execution_count": 54,
      "metadata": {
        "colab": {
          "base_uri": "https://localhost:8080/",
          "height": 258
        },
        "id": "pSH9fbllrl-q",
        "outputId": "6a3a1ace-7c4d-42b8-815c-73d6899f438f"
      },
      "outputs": [
        {
          "output_type": "stream",
          "name": "stdout",
          "text": [
            "Total videos for training: 102\n",
            "Total videos for testing: 35\n",
            "Total videos for validation: 35\n"
          ]
        },
        {
          "output_type": "execute_result",
          "data": {
            "text/plain": [
              "                                            video_name video_class\n",
              "100  Sonoscape_2021-09_2021-10-18_002_20211008_1108...        ls_a\n",
              "134                          003_image_70959392795.mp4        ls_p\n",
              "63                               Old_dataset_LSP_2.avi        ls_p\n",
              "27   Sonoscape_2021-09_2021-10-18_002_20210930_1547...        ls_p\n",
              "115                             Old_dataset_LSP_17.avi        ls_p"
            ],
            "text/html": [
              "\n",
              "  <div id=\"df-cc737011-d7cd-4a5e-8b94-4460cde99a78\" class=\"colab-df-container\">\n",
              "    <div>\n",
              "<style scoped>\n",
              "    .dataframe tbody tr th:only-of-type {\n",
              "        vertical-align: middle;\n",
              "    }\n",
              "\n",
              "    .dataframe tbody tr th {\n",
              "        vertical-align: top;\n",
              "    }\n",
              "\n",
              "    .dataframe thead th {\n",
              "        text-align: right;\n",
              "    }\n",
              "</style>\n",
              "<table border=\"1\" class=\"dataframe\">\n",
              "  <thead>\n",
              "    <tr style=\"text-align: right;\">\n",
              "      <th></th>\n",
              "      <th>video_name</th>\n",
              "      <th>video_class</th>\n",
              "    </tr>\n",
              "  </thead>\n",
              "  <tbody>\n",
              "    <tr>\n",
              "      <th>100</th>\n",
              "      <td>Sonoscape_2021-09_2021-10-18_002_20211008_1108...</td>\n",
              "      <td>ls_a</td>\n",
              "    </tr>\n",
              "    <tr>\n",
              "      <th>134</th>\n",
              "      <td>003_image_70959392795.mp4</td>\n",
              "      <td>ls_p</td>\n",
              "    </tr>\n",
              "    <tr>\n",
              "      <th>63</th>\n",
              "      <td>Old_dataset_LSP_2.avi</td>\n",
              "      <td>ls_p</td>\n",
              "    </tr>\n",
              "    <tr>\n",
              "      <th>27</th>\n",
              "      <td>Sonoscape_2021-09_2021-10-18_002_20210930_1547...</td>\n",
              "      <td>ls_p</td>\n",
              "    </tr>\n",
              "    <tr>\n",
              "      <th>115</th>\n",
              "      <td>Old_dataset_LSP_17.avi</td>\n",
              "      <td>ls_p</td>\n",
              "    </tr>\n",
              "  </tbody>\n",
              "</table>\n",
              "</div>\n",
              "    <div class=\"colab-df-buttons\">\n",
              "\n",
              "  <div class=\"colab-df-container\">\n",
              "    <button class=\"colab-df-convert\" onclick=\"convertToInteractive('df-cc737011-d7cd-4a5e-8b94-4460cde99a78')\"\n",
              "            title=\"Convert this dataframe to an interactive table.\"\n",
              "            style=\"display:none;\">\n",
              "\n",
              "  <svg xmlns=\"http://www.w3.org/2000/svg\" height=\"24px\" viewBox=\"0 -960 960 960\">\n",
              "    <path d=\"M120-120v-720h720v720H120Zm60-500h600v-160H180v160Zm220 220h160v-160H400v160Zm0 220h160v-160H400v160ZM180-400h160v-160H180v160Zm440 0h160v-160H620v160ZM180-180h160v-160H180v160Zm440 0h160v-160H620v160Z\"/>\n",
              "  </svg>\n",
              "    </button>\n",
              "\n",
              "  <style>\n",
              "    .colab-df-container {\n",
              "      display:flex;\n",
              "      gap: 12px;\n",
              "    }\n",
              "\n",
              "    .colab-df-convert {\n",
              "      background-color: #E8F0FE;\n",
              "      border: none;\n",
              "      border-radius: 50%;\n",
              "      cursor: pointer;\n",
              "      display: none;\n",
              "      fill: #1967D2;\n",
              "      height: 32px;\n",
              "      padding: 0 0 0 0;\n",
              "      width: 32px;\n",
              "    }\n",
              "\n",
              "    .colab-df-convert:hover {\n",
              "      background-color: #E2EBFA;\n",
              "      box-shadow: 0px 1px 2px rgba(60, 64, 67, 0.3), 0px 1px 3px 1px rgba(60, 64, 67, 0.15);\n",
              "      fill: #174EA6;\n",
              "    }\n",
              "\n",
              "    .colab-df-buttons div {\n",
              "      margin-bottom: 4px;\n",
              "    }\n",
              "\n",
              "    [theme=dark] .colab-df-convert {\n",
              "      background-color: #3B4455;\n",
              "      fill: #D2E3FC;\n",
              "    }\n",
              "\n",
              "    [theme=dark] .colab-df-convert:hover {\n",
              "      background-color: #434B5C;\n",
              "      box-shadow: 0px 1px 3px 1px rgba(0, 0, 0, 0.15);\n",
              "      filter: drop-shadow(0px 1px 2px rgba(0, 0, 0, 0.3));\n",
              "      fill: #FFFFFF;\n",
              "    }\n",
              "  </style>\n",
              "\n",
              "    <script>\n",
              "      const buttonEl =\n",
              "        document.querySelector('#df-cc737011-d7cd-4a5e-8b94-4460cde99a78 button.colab-df-convert');\n",
              "      buttonEl.style.display =\n",
              "        google.colab.kernel.accessAllowed ? 'block' : 'none';\n",
              "\n",
              "      async function convertToInteractive(key) {\n",
              "        const element = document.querySelector('#df-cc737011-d7cd-4a5e-8b94-4460cde99a78');\n",
              "        const dataTable =\n",
              "          await google.colab.kernel.invokeFunction('convertToInteractive',\n",
              "                                                    [key], {});\n",
              "        if (!dataTable) return;\n",
              "\n",
              "        const docLinkHtml = 'Like what you see? Visit the ' +\n",
              "          '<a target=\"_blank\" href=https://colab.research.google.com/notebooks/data_table.ipynb>data table notebook</a>'\n",
              "          + ' to learn more about interactive tables.';\n",
              "        element.innerHTML = '';\n",
              "        dataTable['output_type'] = 'display_data';\n",
              "        await google.colab.output.renderOutput(dataTable, element);\n",
              "        const docLink = document.createElement('div');\n",
              "        docLink.innerHTML = docLinkHtml;\n",
              "        element.appendChild(docLink);\n",
              "      }\n",
              "    </script>\n",
              "  </div>\n",
              "\n",
              "\n",
              "<div id=\"df-c4fb5235-1628-402c-ac70-0718ecc4c4a5\">\n",
              "  <button class=\"colab-df-quickchart\" onclick=\"quickchart('df-c4fb5235-1628-402c-ac70-0718ecc4c4a5')\"\n",
              "            title=\"Suggest charts\"\n",
              "            style=\"display:none;\">\n",
              "\n",
              "<svg xmlns=\"http://www.w3.org/2000/svg\" height=\"24px\"viewBox=\"0 0 24 24\"\n",
              "     width=\"24px\">\n",
              "    <g>\n",
              "        <path d=\"M19 3H5c-1.1 0-2 .9-2 2v14c0 1.1.9 2 2 2h14c1.1 0 2-.9 2-2V5c0-1.1-.9-2-2-2zM9 17H7v-7h2v7zm4 0h-2V7h2v10zm4 0h-2v-4h2v4z\"/>\n",
              "    </g>\n",
              "</svg>\n",
              "  </button>\n",
              "\n",
              "<style>\n",
              "  .colab-df-quickchart {\n",
              "      --bg-color: #E8F0FE;\n",
              "      --fill-color: #1967D2;\n",
              "      --hover-bg-color: #E2EBFA;\n",
              "      --hover-fill-color: #174EA6;\n",
              "      --disabled-fill-color: #AAA;\n",
              "      --disabled-bg-color: #DDD;\n",
              "  }\n",
              "\n",
              "  [theme=dark] .colab-df-quickchart {\n",
              "      --bg-color: #3B4455;\n",
              "      --fill-color: #D2E3FC;\n",
              "      --hover-bg-color: #434B5C;\n",
              "      --hover-fill-color: #FFFFFF;\n",
              "      --disabled-bg-color: #3B4455;\n",
              "      --disabled-fill-color: #666;\n",
              "  }\n",
              "\n",
              "  .colab-df-quickchart {\n",
              "    background-color: var(--bg-color);\n",
              "    border: none;\n",
              "    border-radius: 50%;\n",
              "    cursor: pointer;\n",
              "    display: none;\n",
              "    fill: var(--fill-color);\n",
              "    height: 32px;\n",
              "    padding: 0;\n",
              "    width: 32px;\n",
              "  }\n",
              "\n",
              "  .colab-df-quickchart:hover {\n",
              "    background-color: var(--hover-bg-color);\n",
              "    box-shadow: 0 1px 2px rgba(60, 64, 67, 0.3), 0 1px 3px 1px rgba(60, 64, 67, 0.15);\n",
              "    fill: var(--button-hover-fill-color);\n",
              "  }\n",
              "\n",
              "  .colab-df-quickchart-complete:disabled,\n",
              "  .colab-df-quickchart-complete:disabled:hover {\n",
              "    background-color: var(--disabled-bg-color);\n",
              "    fill: var(--disabled-fill-color);\n",
              "    box-shadow: none;\n",
              "  }\n",
              "\n",
              "  .colab-df-spinner {\n",
              "    border: 2px solid var(--fill-color);\n",
              "    border-color: transparent;\n",
              "    border-bottom-color: var(--fill-color);\n",
              "    animation:\n",
              "      spin 1s steps(1) infinite;\n",
              "  }\n",
              "\n",
              "  @keyframes spin {\n",
              "    0% {\n",
              "      border-color: transparent;\n",
              "      border-bottom-color: var(--fill-color);\n",
              "      border-left-color: var(--fill-color);\n",
              "    }\n",
              "    20% {\n",
              "      border-color: transparent;\n",
              "      border-left-color: var(--fill-color);\n",
              "      border-top-color: var(--fill-color);\n",
              "    }\n",
              "    30% {\n",
              "      border-color: transparent;\n",
              "      border-left-color: var(--fill-color);\n",
              "      border-top-color: var(--fill-color);\n",
              "      border-right-color: var(--fill-color);\n",
              "    }\n",
              "    40% {\n",
              "      border-color: transparent;\n",
              "      border-right-color: var(--fill-color);\n",
              "      border-top-color: var(--fill-color);\n",
              "    }\n",
              "    60% {\n",
              "      border-color: transparent;\n",
              "      border-right-color: var(--fill-color);\n",
              "    }\n",
              "    80% {\n",
              "      border-color: transparent;\n",
              "      border-right-color: var(--fill-color);\n",
              "      border-bottom-color: var(--fill-color);\n",
              "    }\n",
              "    90% {\n",
              "      border-color: transparent;\n",
              "      border-bottom-color: var(--fill-color);\n",
              "    }\n",
              "  }\n",
              "</style>\n",
              "\n",
              "  <script>\n",
              "    async function quickchart(key) {\n",
              "      const quickchartButtonEl =\n",
              "        document.querySelector('#' + key + ' button');\n",
              "      quickchartButtonEl.disabled = true;  // To prevent multiple clicks.\n",
              "      quickchartButtonEl.classList.add('colab-df-spinner');\n",
              "      try {\n",
              "        const charts = await google.colab.kernel.invokeFunction(\n",
              "            'suggestCharts', [key], {});\n",
              "      } catch (error) {\n",
              "        console.error('Error during call to suggestCharts:', error);\n",
              "      }\n",
              "      quickchartButtonEl.classList.remove('colab-df-spinner');\n",
              "      quickchartButtonEl.classList.add('colab-df-quickchart-complete');\n",
              "    }\n",
              "    (() => {\n",
              "      let quickchartButtonEl =\n",
              "        document.querySelector('#df-c4fb5235-1628-402c-ac70-0718ecc4c4a5 button');\n",
              "      quickchartButtonEl.style.display =\n",
              "        google.colab.kernel.accessAllowed ? 'block' : 'none';\n",
              "    })();\n",
              "  </script>\n",
              "</div>\n",
              "    </div>\n",
              "  </div>\n"
            ],
            "application/vnd.google.colaboratory.intrinsic+json": {
              "type": "dataframe",
              "variable_name": "train_df",
              "summary": "{\n  \"name\": \"train_df\",\n  \"rows\": 102,\n  \"fields\": [\n    {\n      \"column\": \"video_name\",\n      \"properties\": {\n        \"dtype\": \"string\",\n        \"num_unique_values\": 102,\n        \"samples\": [\n          \"Old_dataset_LSP_20.avi\",\n          \"x220819--071841_20220819_MSK_0003s.AVI\",\n          \"021_image_182041262860754.mp4\"\n        ],\n        \"semantic_type\": \"\",\n        \"description\": \"\"\n      }\n    },\n    {\n      \"column\": \"video_class\",\n      \"properties\": {\n        \"dtype\": \"category\",\n        \"num_unique_values\": 2,\n        \"samples\": [\n          \"ls_p\",\n          \"ls_a\"\n        ],\n        \"semantic_type\": \"\",\n        \"description\": \"\"\n      }\n    }\n  ]\n}"
            }
          },
          "metadata": {},
          "execution_count": 54
        }
      ],
      "source": [
        "# Split data into train and test sets (e.g., 80%/20%)\n",
        "train_df, test_df = train_test_split(df, test_size=0.2, random_state=42)\n",
        "\n",
        "# Further split the train set into train and validation sets (e.g., 60%/20%)\n",
        "train_df, val_df = train_test_split(train_df, test_size=0.25, random_state=42)\n",
        "\n",
        "\n",
        "print(f\"Total videos for training: {len(train_df)}\")\n",
        "print(f\"Total videos for testing: {len(test_df)}\")\n",
        "print(f\"Total videos for validation: {len(test_df)}\")\n",
        "\n",
        "train_df.head()"
      ]
    },
    {
      "cell_type": "code",
      "source": [
        "# train_df = train_df.sample(20, random_state=42)\n",
        "# test_df = test_df.sample(5, random_state=42)\n",
        "# val_df = val_df.sample(5, random_state=42)"
      ],
      "metadata": {
        "id": "X8pbOQvNYbhT"
      },
      "execution_count": 55,
      "outputs": []
    },
    {
      "cell_type": "code",
      "source": [
        "# import os\n",
        "\n",
        "# def video_exists(video_name, folder_path):\n",
        "#   \"\"\"\n",
        "#   Checks if a video exists in the specified folder.\n",
        "#   \"\"\"\n",
        "#   file_path = os.path.join(folder_path, video_name)\n",
        "#   return os.path.isfile(file_path)\n",
        "\n",
        "# def filter_dataframe(df, folder_path):\n",
        "#   \"\"\"\n",
        "#   Filters the DataFrame to keep rows where videos exist in the folder.\n",
        "#   \"\"\"\n",
        "#   return df[df[\"video_name\"].apply(lambda name: video_exists(name, folder_path))]\n",
        "\n",
        "# # Filter the DataFrame\n",
        "# train_df = filter_dataframe(train_df, DATA_DIR_PATH)  # Copy to avoid modifying original DataFrame\n",
        "# test_df = filter_dataframe(test_df, DATA_DIR_PATH)\n",
        "\n",
        "# print(f\"Total videos for training: {len(train_df)}\")\n",
        "# print(f\"Total videos for testing: {len(test_df)}\")\n",
        "\n",
        "# train_df.sample(10)"
      ],
      "metadata": {
        "id": "hozkJ2vHtR-I"
      },
      "execution_count": 56,
      "outputs": []
    },
    {
      "cell_type": "code",
      "execution_count": 57,
      "metadata": {
        "colab": {
          "base_uri": "https://localhost:8080/"
        },
        "id": "h-JkQIn9rl-t",
        "outputId": "1ed4ec0c-7d97-49e1-bcc4-1676d4b8c995"
      },
      "outputs": [
        {
          "output_type": "stream",
          "name": "stdout",
          "text": [
            "['ls_a', 'ls_p']\n"
          ]
        }
      ],
      "source": [
        "class VocabularyMapping:\n",
        "    def __init__(self, labels):\n",
        "        self.mapping = {label: index for index, label in enumerate(labels)}\n",
        "\n",
        "    def __call__(self, labels):\n",
        "        return torch.tensor([self.mapping[label] for label in labels], dtype=torch.float32)\n",
        "\n",
        "label_processor = VocabularyMapping(np.unique(train_df[\"video_class\"]))\n",
        "print(list(label_processor.mapping.keys()))"
      ]
    },
    {
      "cell_type": "code",
      "source": [
        "class OpticalFlowExtractor:\n",
        "  def __init__(self):\n",
        "    weights = Raft_Small_Weights.DEFAULT\n",
        "    self.model = raft_small(weights=weights, progress=False).to(device)\n",
        "    self.model = self.model.eval()\n",
        "    self.transforms = weights.transforms()\n",
        "\n",
        "  def _preprocess(self, frame1_batch, frame2_batch):\n",
        "    frame1_batch = T.functional.resize(frame1_batch, size=[FRAME_HEIGHT, FRAME_WIDTH], antialias=False)\n",
        "    frame2_batch = T.functional.resize(frame2_batch, size=[FRAME_HEIGHT, FRAME_WIDTH], antialias=False)\n",
        "    return self.transforms(frame1_batch, frame2_batch)\n",
        "\n",
        "  def __call__(self, frame1_batch, frame2_batch):\n",
        "    frame1_batch, frame2_batch = self._preprocess(frame1_batch, frame2_batch)\n",
        "    return self.model(frame1_batch, frame2_batch)\n",
        "\n",
        "optical_flow_extractor = OpticalFlowExtractor()"
      ],
      "metadata": {
        "id": "aDEbW3Ssm0G4"
      },
      "execution_count": 58,
      "outputs": []
    },
    {
      "cell_type": "code",
      "execution_count": 59,
      "metadata": {
        "id": "NluB9jezrl-t"
      },
      "outputs": [],
      "source": [
        "# class FeatureExtractor:\n",
        "#     def __init__(self):\n",
        "#         weights = Inception_V3_Weights.DEFAULT\n",
        "#         self.model = inception_v3(weights=weights)\n",
        "#         self.model = self.model.eval()\n",
        "#         self.transforms = weights.transforms()\n",
        "\n",
        "#     def preprocess(self, img_batch):\n",
        "#         return self.transforms(img_batch)\n",
        "\n",
        "#     def extract(self, batch):\n",
        "#         return  self.model(batch)\n",
        "\n",
        "# feature_extractor = FeatureExtractor()"
      ]
    },
    {
      "cell_type": "code",
      "source": [
        "# from torchvision.utils import flow_to_image\n",
        "\n",
        "# flow_frames = flow_to_image(flows)\n",
        "# # Assuming your image data is in two lists: list1 (5 elements) and list2 (5 elements)\n",
        "# fig, axes = plt.subplots(5, 2, figsize=(8, 12))  # Adjust figsize for desired size\n",
        "\n",
        "# # Flatten the lists into a single iterator\n",
        "# frame1_batch = [(frame1 + 1) / 2 for frame1 in frame1_batch]\n",
        "\n",
        "# grid = [[frame1.permute(1, 2, 0), flow_frame.permute(1, 2, 0)] for (frame1, flow_frame) in zip(frame1_batch, flow_frames)]\n",
        "# # Enumerate the iterator to get index and image data\n",
        "# for i, (img1, img2) in enumerate(grid):\n",
        "#   # Access subplots based on index (avoiding nested loops)\n",
        "#   #ax1, ax2 = axes[i, 0], axes[i, 1]  # Integer division and modulo for grid position\n",
        "\n",
        "#   axes[i, 0].imshow(img1)\n",
        "#   axes[i, 1].imshow(img2)\n",
        "\n",
        "\n",
        "# plt.tight_layout()\n",
        "# plt.show()"
      ],
      "metadata": {
        "id": "zHWIAQ_i0bIY"
      },
      "execution_count": 60,
      "outputs": []
    },
    {
      "cell_type": "code",
      "execution_count": 61,
      "metadata": {
        "id": "ck3TSUoXrl-u"
      },
      "outputs": [],
      "source": [
        "transforms = torchvision.transforms.Compose([\n",
        "    torchvision.transforms.Resize(size=(FRAME_HEIGHT, FRAME_WIDTH))\n",
        "])"
      ]
    },
    {
      "cell_type": "code",
      "source": [
        "# video_path = os.path.join(DATA_DIR_PATH, train_df[\"video_name\"].iloc[4])\n",
        "# frame_names = os.listdir(video_path)\n",
        "# frame_names.sort(key=lambda x: int(x[6:-4]))\n",
        "# frame = read_image(os.path.join(video_path, frame_names[0]), ImageReadMode.RGB).to(device)\n",
        "# transformed = transforms(frame)\n",
        "\n",
        "# plt.imshow(transformed.permute(1, 2, 0).cpu())\n"
      ],
      "metadata": {
        "id": "7MpLlRRlv_4I"
      },
      "execution_count": 62,
      "outputs": []
    },
    {
      "cell_type": "code",
      "execution_count": 63,
      "metadata": {
        "id": "pVQMojo7rl-u"
      },
      "outputs": [],
      "source": [
        "class VideoDataset(Dataset):\n",
        "    def __init__(self, df, root_dir=DATA_DIR_PATH, max_frames=MAX_SEQ_LENGTH):\n",
        "        self.df = df\n",
        "        self.root_dir = root_dir\n",
        "        self.transforms = transforms\n",
        "        self.max_frames = max_frames\n",
        "        self.label_processor = label_processor\n",
        "        self.labels = self.label_processor(df[\"video_class\"].values)\n",
        "\n",
        "    def __len__(self):\n",
        "        return len(self.df)\n",
        "\n",
        "    def __getitem__(self, idx):\n",
        "        video_path = os.path.join(self.root_dir, self.df[\"video_name\"].iloc[idx])\n",
        "        frame_names = os.listdir(video_path)\n",
        "        frame_names.sort(key=lambda x: int(x[6:-4]))\n",
        "\n",
        "        frame1_names_batch = frame_names[:-TEMPORAL_STEP][:MAX_SEQ_LENGTH]\n",
        "        frame2_names_batch = frame_names[TEMPORAL_STEP:][:MAX_SEQ_LENGTH]\n",
        "\n",
        "        frame1_batch = [read_image(os.path.join(video_path, frame_name), ImageReadMode.RGB).to(device) for frame_name in frame1_names_batch]\n",
        "        frame2_batch = [read_image(os.path.join(video_path, frame_name), ImageReadMode.RGB).to(device) for frame_name in frame2_names_batch]\n",
        "\n",
        "        frame1_batch = [self.transforms(frame) for frame in frame1_batch]\n",
        "        frame2_batch = [self.transforms(frame) for frame in frame2_batch]\n",
        "\n",
        "        frame1_batch = torch.stack(frame1_batch).to(device)\n",
        "        frame2_batch = torch.stack(frame2_batch).to(device)\n",
        "\n",
        "        flows = optical_flow_extractor(frame1_batch, frame2_batch)[-1]\n",
        "\n",
        "        return flows, self.labels[idx]"
      ]
    },
    {
      "cell_type": "code",
      "execution_count": 64,
      "metadata": {
        "colab": {
          "base_uri": "https://localhost:8080/"
        },
        "id": "Dr5NhO7Xrl-v",
        "outputId": "163fd4ad-c26a-4b4b-c897-a10fdaaf333c"
      },
      "outputs": [
        {
          "output_type": "stream",
          "name": "stdout",
          "text": [
            "Number of items in train dataset: 102\n",
            "Number of items in test dataset: 35\n",
            "Number of items in validation dataset: 34\n"
          ]
        }
      ],
      "source": [
        "train_dataset = VideoDataset(train_df)\n",
        "train_dataloader = DataLoader(train_dataset, batch_size=BATCH_SIZE, shuffle=True)\n",
        "\n",
        "test_dataset = VideoDataset(test_df)\n",
        "test_dataloader = DataLoader(test_dataset, batch_size=BATCH_SIZE, shuffle=True)\n",
        "\n",
        "val_dataset = VideoDataset(val_df)\n",
        "val_dataloader = DataLoader(val_dataset, batch_size=BATCH_SIZE, shuffle=True)\n",
        "\n",
        "\n",
        "# train_data = next(iter(train_dataloader))\n",
        "print(f\"Number of items in train dataset: {len(train_dataset)}\")\n",
        "print(f\"Number of items in test dataset: {len(test_dataset)}\")\n",
        "print(f\"Number of items in validation dataset: {len(val_dataset)}\")"
      ]
    },
    {
      "cell_type": "code",
      "source": [
        "# a = next(iter(train_dataloader))\n",
        "# a[0].shape"
      ],
      "metadata": {
        "id": "Y_iQ8ZLY2mPL"
      },
      "execution_count": 65,
      "outputs": []
    },
    {
      "cell_type": "code",
      "execution_count": 66,
      "metadata": {
        "id": "ywEPHmRqrl-v"
      },
      "outputs": [],
      "source": [
        "# def prepare_all_videos(df, root_dir):\n",
        "#     num_samples = len(df)\n",
        "#     video_paths = df[\"video_name\"].values.tolist()\n",
        "#     labels = df[\"tag\"].values\n",
        "#     label_tensor = label_processor(labels)\n",
        "\n",
        "#     frame_masks = torch.zeros(num_samples, MAX_SEQ_LENGTH, dtype=torch.bool)\n",
        "#     frame_features = torch.zeros(num_samples, MAX_SEQ_LENGTH, NUM_FEATURES, dtype=torch.float32)\n",
        "\n",
        "#     feature_extractor = FeatureExtractor()\n",
        "\n",
        "#     for idx, path in enumerate(video_paths):\n",
        "#         frames = load_video(os.path.join(root_dir, path), max_frames=MAX_SEQ_LENGTH)\n",
        "#         frames.unsqueeze(0)\n",
        "#         temp_frame_mask = torch.zeros(1, MAX_SEQ_LENGTH, dtype=torch.bool)\n",
        "#         temp_frame_features = torch.zeros(1, MAX_SEQ_LENGTH, NUM_FEATURES, dtype=torch.float32)\n",
        "#         print(frames.shape)\n",
        "#         for i, batch in enumerate(frames):\n",
        "#             video_length = batch.shape[0]\n",
        "#             length = min(MAX_SEQ_LENGTH, video_length)\n",
        "#             # for j in range(length):\n",
        "#             print(batch.unsqueeze(0).shape)\n",
        "#             temp_frame_features[i, :, :] = feature_extractor.extract(batch)\n",
        "#             temp_frame_mask[i, :length] = 1\n",
        "\n",
        "#         frame_features[idx] = temp_frame_features.squeeze()\n",
        "#         frame_masks[idx] = temp_frame_mask.squeeze()\n",
        "\n",
        "#     return (frame_features, frame_masks), label_tensor\n",
        "\n",
        "# train_data, train_labels = prepare_all_videos(train_df, \"data/train\")\n",
        "# test_data, test_labels = prepare_all_videos(test_df, \"data/test\")\n",
        "\n",
        "# print(f\"Frame features in train set: {train_data[0].shape}\")\n",
        "# print(f\"Frame masks in train set: {train_data[1].shape}\")"
      ]
    },
    {
      "cell_type": "code",
      "source": [
        "\n",
        "# # Define the convolutional layers\n",
        "# conv1 = torch.nn.Conv3d(in_channels=MAX_SEQ_LENGTH, out_channels=16, kernel_size=(2, 3, 3), stride=1, padding=1)\n",
        "# relu1 = torch.nn.ReLU()\n",
        "# maxpool1 = torch.nn.MaxPool3d(kernel_size=2, stride=2)\n",
        "# conv2 = torch.nn.Conv3d(in_channels=16, out_channels=32, kernel_size=(2, 3, 3), stride=1, padding=1)\n",
        "# relu2 = torch.nn.ReLU()\n",
        "# maxpool2 = torch.nn.MaxPool3d(kernel_size=2, stride=2)\n",
        "\n",
        "# # Define a sample input tensor to get the output size\n",
        "# sample_input = torch.randn((BATCH_SIZE, MAX_SEQ_LENGTH, 2, FRAME_HEIGHT, FRAME_WIDTH))  # Assuming input size is (batch_size, channels, depth, height, width)\n",
        "\n",
        "# # Forward pass to get the output size\n",
        "# x = conv1(sample_input)\n",
        "# x = relu1(x)\n",
        "# x = maxpool1(x)\n",
        "# x = conv2(x)\n",
        "# x = relu2(x)\n",
        "# output = maxpool2(x)\n",
        "\n",
        "# # Print the output size\n",
        "# print(\"Output size:\", output.size())170496\n",
        "\n",
        "# x = torch.nn.Linear(?, 64),  # Adjust input size based on your data shape\n",
        "# torch.nn.ReLU(),\n",
        "#             torch.nn.Linear(64, 2)"
      ],
      "metadata": {
        "id": "CxynlXRU2fGX"
      },
      "execution_count": 67,
      "outputs": []
    },
    {
      "cell_type": "code",
      "execution_count": 70,
      "metadata": {
        "id": "lfFK6xXlrl-w"
      },
      "outputs": [],
      "source": [
        "class Model(torch.nn.Module):\n",
        "    def __init__(self):\n",
        "        super(Model, self).__init__()\n",
        "\n",
        "        # Convolution layers\n",
        "        self.conv_layers = torch.nn.Sequential(\n",
        "            torch.nn.Conv3d(in_channels=MAX_SEQ_LENGTH, out_channels=16, kernel_size=(2, 3, 3), stride=1, padding=1),\n",
        "            torch.nn.ReLU(),\n",
        "            torch.nn.MaxPool3d(kernel_size=2, stride=2),\n",
        "            torch.nn.Conv3d(in_channels=16, out_channels=32, kernel_size=(2, 3, 3), stride=1, padding=1),\n",
        "            torch.nn.ReLU(),\n",
        "            torch.nn.MaxPool3d(kernel_size=2, stride=2)\n",
        "        )\n",
        "\n",
        "        # Fully connected layers\n",
        "        self.fc_layers = torch.nn.Sequential(\n",
        "            torch.nn.Linear(170496, 64),  # Adjust input size based on your data shape\n",
        "            torch.nn.ReLU(),\n",
        "            torch.nn.Linear(64, 1)\n",
        "        )\n",
        "\n",
        "        self.optimizer = torch.optim.Adam(self.parameters())\n",
        "\n",
        "        # Metrics\n",
        "        self.accuracy = torchmetrics.Accuracy(task='binary')\n",
        "        self.precision = torchmetrics.Precision(task='binary')\n",
        "        self.recall = torchmetrics.Recall(task='binary')\n",
        "        self.f1 = torchmetrics.F1Score(task='binary')\n",
        "\n",
        "    def forward(self, x):\n",
        "        x = self.conv_layers(x)\n",
        "        x = torch.flatten(x, 1)  # Flatten except batch dimension\n",
        "        x = self.fc_layers(x)\n",
        "        return x\n",
        "\n",
        "    def fit(self, train_dataloader, val_dataloader, epochs=EPOCHS):\n",
        "        train_losses = []\n",
        "        val_losses = []\n",
        "\n",
        "        for epoch in range(epochs):\n",
        "            # Training phase\n",
        "            train_loss = 0.0\n",
        "            tqdm_train_loader = tqdm(train_dataloader, desc=f\"Epoch {epoch+1}/{epochs} - Training\")\n",
        "            for batch_idx, (batch_flows, batch_labels) in enumerate(tqdm_train_loader):\n",
        "                batch_flows, batch_labels = batch_flows.to(device), batch_labels.to(device)\n",
        "                self.optimizer.zero_grad()\n",
        "                output = self(batch_flows).squeeze(1)\n",
        "                loss = nn.functional.binary_cross_entropy_with_logits(output, batch_labels)\n",
        "                loss.backward()\n",
        "                self.optimizer.step()\n",
        "                train_loss += loss.item()\n",
        "                tqdm_train_loader.set_postfix({'train_loss': train_loss / (batch_idx + 1)})\n",
        "\n",
        "            train_losses.append(train_loss)\n",
        "\n",
        "            # Validation phase\n",
        "            val_loss, val_acc, val_precision, val_recall, val_f1 = self.evaluate(val_dataloader)\n",
        "            val_losses.append(val_loss)\n",
        "\n",
        "            print(f\"Epoch {epoch+1}/{epochs} - Validation: Loss: {val_loss:.4f}, Accuracy: {val_acc:.4f}, Precision: {val_precision:.4f}, Recall: {val_recall:.4f}, F1: {val_f1:.4f}\")\n",
        "\n",
        "        return train_losses, val_losses\n",
        "\n",
        "    def evaluate(self, data_loader):\n",
        "        total_loss = 0.0\n",
        "        self.accuracy.reset()\n",
        "        self.precision.reset()\n",
        "        self.recall.reset()\n",
        "        self.f1.reset()\n",
        "        with torch.no_grad():\n",
        "            tqdm_train_loader = tqdm(data_loader, desc=f\"Epoch 1/1 - Testing\")\n",
        "            for batch_idx, (batch_flows, batch_labels) in enumerate(data_loader):\n",
        "                batch_flows, batch_labels = batch_flows.to(device), batch_labels.to(device)\n",
        "                output = self(batch_flows).squeeze(1)\n",
        "                loss = nn.functional.binary_cross_entropy_with_logits(output, batch_labels)\n",
        "                total_loss += loss.item()\n",
        "                tqdm_train_loader.set_postfix({'loss': loss / (batch_idx + 1)})\n",
        "\n",
        "                predicted = torch.sigmoid(output) > 0.5\n",
        "                self.accuracy(predicted, batch_labels)\n",
        "                self.precision(predicted, batch_labels)\n",
        "                self.recall(predicted, batch_labels)\n",
        "                self.f1(predicted, batch_labels)\n",
        "\n",
        "        return total_loss, self.accuracy.compute(), self.precision.compute(), self.recall.compute(), self.f1.compute()\n",
        "\n",
        "    # def save_weights(self, file_path):\n",
        "    #     torch.save(self.state_dict(), file_path)\n",
        "    #     print(f\"Model weights saved to {file_path}\")\n",
        "\n",
        "\n",
        "    # def load_weights(model, file_path):\n",
        "    #     model.load_state_dict(torch.load(file_path))\n",
        "    #     print(f\"Model weights loaded from {file_path}\")\n",
        "    #     return model\n",
        "\n",
        "    # def save_checkpoint(self, optimizer, epoch, loss, checkpoint_path):\n",
        "    #     checkpoint = {\n",
        "    #         'epoch': epoch,\n",
        "    #         'model_state_dict': self.state_dict(),\n",
        "    #         'optimizer_state_dict': optimizer.state_dict(),\n",
        "    #         'loss': loss\n",
        "    #     }\n",
        "    #     torch.save(checkpoint, checkpoint_path)\n",
        "    #     print(f\"Checkpoint saved at {checkpoint_path}\")\n",
        "\n",
        "    # def load_checkpoint(model, optimizer, checkpoint_path):\n",
        "    #     checkpoint = torch.load(checkpoint_path)\n",
        "    #     model.load_state_dict(checkpoint['model_state_dict'])\n",
        "    #     optimizer.load_state_dict(checkpoint['optimizer_state_dict'])\n",
        "    #     epoch = checkpoint['epoch']\n",
        "    #     loss = checkpoint['loss']\n",
        "    #     print(f\"Checkpoint loaded from {checkpoint_path}, Epoch: {epoch}, Loss: {loss}\")\n",
        "    #     return model, optimizer, epoch, loss"
      ]
    },
    {
      "cell_type": "markdown",
      "source": [
        "# Training phase"
      ],
      "metadata": {
        "id": "ES24vtpcW2kK"
      }
    },
    {
      "cell_type": "code",
      "execution_count": 71,
      "metadata": {
        "id": "Cz-UZRpJrl-w",
        "colab": {
          "base_uri": "https://localhost:8080/",
          "height": 657,
          "referenced_widgets": [
            "b45dc7ef01814feeb7dfb4449d8f56b0",
            "a17515ffa8da4a8ba5124b6dbcd0daed",
            "d89f4f8b73f84af49664f0dce79d73d1",
            "c953fdceb7a743d68a755408766732d4",
            "9b6e12c3d2a74360ba1b67880c173947",
            "751ae1cdb380419eadce0409c4efc891",
            "2f8902d362b84041b27fbf15cbe1744f",
            "feb897bab1114d709911ec77b0c4bc55",
            "6d79b6d901cc47bcad16b359792964ea",
            "c171fe8e50304eb3af15f108ecd2718a",
            "e0a6f84b32f445c9930c0fd5f88922e2"
          ]
        },
        "outputId": "2749dc4f-3ec0-45a3-83c8-f3a1c7afb6be"
      },
      "outputs": [
        {
          "output_type": "display_data",
          "data": {
            "text/plain": [
              "Epoch 1/1 - Training:   0%|          | 0/102 [00:00<?, ?it/s]"
            ],
            "application/vnd.jupyter.widget-view+json": {
              "version_major": 2,
              "version_minor": 0,
              "model_id": "b45dc7ef01814feeb7dfb4449d8f56b0"
            }
          },
          "metadata": {}
        },
        {
          "output_type": "stream",
          "name": "stdout",
          "text": [
            "batch_labels size:  torch.Size([1])\n",
            "batch_labels size:  torch.Size([1])\n",
            "batch_labels size:  torch.Size([1])\n",
            "batch_labels size:  torch.Size([1])\n",
            "batch_labels size:  torch.Size([1])\n",
            "batch_labels size:  torch.Size([1])\n",
            "batch_labels size:  torch.Size([1])\n",
            "batch_labels size:  torch.Size([1])\n",
            "batch_labels size:  torch.Size([1])\n",
            "batch_labels size:  torch.Size([1])\n",
            "batch_labels size:  torch.Size([1])\n",
            "batch_labels size:  torch.Size([1])\n",
            "batch_labels size:  torch.Size([1])\n",
            "batch_labels size:  torch.Size([1])\n",
            "batch_labels size:  torch.Size([1])\n",
            "batch_labels size:  torch.Size([1])\n",
            "batch_labels size:  torch.Size([1])\n",
            "batch_labels size:  torch.Size([1])\n",
            "batch_labels size:  torch.Size([1])\n",
            "batch_labels size:  torch.Size([1])\n",
            "batch_labels size:  torch.Size([1])\n",
            "batch_labels size:  torch.Size([1])\n",
            "batch_labels size:  torch.Size([1])\n",
            "batch_labels size:  torch.Size([1])\n",
            "batch_labels size:  torch.Size([1])\n",
            "batch_labels size:  torch.Size([1])\n",
            "batch_labels size:  torch.Size([1])\n",
            "batch_labels size:  torch.Size([1])\n",
            "batch_labels size:  torch.Size([1])\n",
            "batch_labels size:  torch.Size([1])\n",
            "batch_labels size:  torch.Size([1])\n",
            "batch_labels size:  torch.Size([1])\n",
            "batch_labels size:  torch.Size([1])\n",
            "batch_labels size:  torch.Size([1])\n",
            "Epoch 1/1 - Validation: Loss: 17.1901, Accuracy: 0.8235, Precision: 0.8235, Recall: 1.0000, F1: 0.9032\n"
          ]
        }
      ],
      "source": [
        "model = Model().to(device)\n",
        "\n",
        "train_losses, val_losses = model.fit(train_dataloader, val_dataloader)"
      ]
    },
    {
      "cell_type": "markdown",
      "source": [
        "## Plot loss curves"
      ],
      "metadata": {
        "id": "8tNscy0HXFKk"
      }
    },
    {
      "cell_type": "code",
      "source": [
        "plt.figure(figsize=(10, 5))\n",
        "plt.plot(train_losses, label='Training Loss')\n",
        "plt.plot(val_losses, label='Validation Loss')\n",
        "plt.xlabel('Epoch')\n",
        "plt.ylabel('Loss')\n",
        "plt.title('Training and Validation Loss')\n",
        "plt.legend()\n",
        "plt.grid(True)\n",
        "plt.show()"
      ],
      "metadata": {
        "id": "U4Esz2RtUGf3",
        "colab": {
          "base_uri": "https://localhost:8080/",
          "height": 487
        },
        "outputId": "ac9db6bd-f345-42a3-92ee-5174c7694197"
      },
      "execution_count": 72,
      "outputs": [
        {
          "output_type": "display_data",
          "data": {
            "text/plain": [
              "<Figure size 1000x500 with 1 Axes>"
            ],
            "image/png": "[encoded data removed]"
          },
          "metadata": {}
        }
      ]
    },
    {
      "cell_type": "markdown",
      "source": [
        "# Test phase"
      ],
      "metadata": {
        "id": "qxuSSYLZ5TPf"
      }
    },
    {
      "cell_type": "code",
      "source": [
        "# Testing phase\n",
        "test_loss, test_acc, test_precision, test_recall, test_f1 = model.test(test_dataloader)\n",
        "print(f\"Testing: Loss: {test_loss:.4f}, Accuracy: {test_acc:.4f}, Precision: {test_precision:.4f}, Recall: {test_recall:.4f}, F1: {test_f1:.4f}\")"
      ],
      "metadata": {
        "id": "B0jj8CPOVVhw"
      },
      "execution_count": null,
      "outputs": []
    }
  ],
  "metadata": {
    "kernelspec": {
      "display_name": "Python 3",
      "name": "python3"
    },
    "language_info": {
      "codemirror_mode": {
        "name": "ipython",
        "version": 3
      },
      "file_extension": ".py",
      "mimetype": "text/x-python",
      "name": "python",
      "nbconvert_exporter": "python",
      "pygments_lexer": "ipython3",
      "version": "3.10.12"
    },
    "colab": {
      "provenance": [],
      "gpuType": "T4",
      "include_colab_link": true
    },
    "accelerator": "GPU",
    "widgets": {
      "application/vnd.jupyter.widget-state+json": {
        "b45dc7ef01814feeb7dfb4449d8f56b0": {
          "model_module": "@jupyter-widgets/controls",
          "model_name": "HBoxModel",
          "model_module_version": "1.5.0",
          "state": {
            "_dom_classes": [],
            "_model_module": "@jupyter-widgets/controls",
            "_model_module_version": "1.5.0",
            "_model_name": "HBoxModel",
            "_view_count": null,
            "_view_module": "@jupyter-widgets/controls",
            "_view_module_version": "1.5.0",
            "_view_name": "HBoxView",
            "box_style": "",
            "children": [
              "IPY_MODEL_a17515ffa8da4a8ba5124b6dbcd0daed",
              "IPY_MODEL_d89f4f8b73f84af49664f0dce79d73d1",
              "IPY_MODEL_c953fdceb7a743d68a755408766732d4"
            ],
            "layout": "IPY_MODEL_9b6e12c3d2a74360ba1b67880c173947"
          }
        },
        "a17515ffa8da4a8ba5124b6dbcd0daed": {
          "model_module": "@jupyter-widgets/controls",
          "model_name": "HTMLModel",
          "model_module_version": "1.5.0",
          "state": {
            "_dom_classes": [],
            "_model_module": "@jupyter-widgets/controls",
            "_model_module_version": "1.5.0",
            "_model_name": "HTMLModel",
            "_view_count": null,
            "_view_module": "@jupyter-widgets/controls",
            "_view_module_version": "1.5.0",
            "_view_name": "HTMLView",
            "description": "",
            "description_tooltip": null,
            "layout": "IPY_MODEL_751ae1cdb380419eadce0409c4efc891",
            "placeholder": "​",
            "style": "IPY_MODEL_2f8902d362b84041b27fbf15cbe1744f",
            "value": "Epoch 1/1 - Training: 100%"
          }
        },
        "d89f4f8b73f84af49664f0dce79d73d1": {
          "model_module": "@jupyter-widgets/controls",
          "model_name": "FloatProgressModel",
          "model_module_version": "1.5.0",
          "state": {
            "_dom_classes": [],
            "_model_module": "@jupyter-widgets/controls",
            "_model_module_version": "1.5.0",
            "_model_name": "FloatProgressModel",
            "_view_count": null,
            "_view_module": "@jupyter-widgets/controls",
            "_view_module_version": "1.5.0",
            "_view_name": "ProgressView",
            "bar_style": "success",
            "description": "",
            "description_tooltip": null,
            "layout": "IPY_MODEL_feb897bab1114d709911ec77b0c4bc55",
            "max": 102,
            "min": 0,
            "orientation": "horizontal",
            "style": "IPY_MODEL_6d79b6d901cc47bcad16b359792964ea",
            "value": 102
          }
        },
        "c953fdceb7a743d68a755408766732d4": {
          "model_module": "@jupyter-widgets/controls",
          "model_name": "HTMLModel",
          "model_module_version": "1.5.0",
          "state": {
            "_dom_classes": [],
            "_model_module": "@jupyter-widgets/controls",
            "_model_module_version": "1.5.0",
            "_model_name": "HTMLModel",
            "_view_count": null,
            "_view_module": "@jupyter-widgets/controls",
            "_view_module_version": "1.5.0",
            "_view_name": "HTMLView",
            "description": "",
            "description_tooltip": null,
            "layout": "IPY_MODEL_c171fe8e50304eb3af15f108ecd2718a",
            "placeholder": "​",
            "style": "IPY_MODEL_e0a6f84b32f445c9930c0fd5f88922e2",
            "value": " 102/102 [01:41&lt;00:00,  1.25it/s, train_loss=1.57]"
          }
        },
        "9b6e12c3d2a74360ba1b67880c173947": {
          "model_module": "@jupyter-widgets/base",
          "model_name": "LayoutModel",
          "model_module_version": "1.2.0",
          "state": {
            "_model_module": "@jupyter-widgets/base",
            "_model_module_version": "1.2.0",
            "_model_name": "LayoutModel",
            "_view_count": null,
            "_view_module": "@jupyter-widgets/base",
            "_view_module_version": "1.2.0",
            "_view_name": "LayoutView",
            "align_content": null,
            "align_items": null,
            "align_self": null,
            "border": null,
            "bottom": null,
            "display": null,
            "flex": null,
            "flex_flow": null,
            "grid_area": null,
            "grid_auto_columns": null,
            "grid_auto_flow": null,
            "grid_auto_rows": null,
            "grid_column": null,
            "grid_gap": null,
            "grid_row": null,
            "grid_template_areas": null,
            "grid_template_columns": null,
            "grid_template_rows": null,
            "height": null,
            "justify_content": null,
            "justify_items": null,
            "left": null,
            "margin": null,
            "max_height": null,
            "max_width": null,
            "min_height": null,
            "min_width": null,
            "object_fit": null,
            "object_position": null,
            "order": null,
            "overflow": null,
            "overflow_x": null,
            "overflow_y": null,
            "padding": null,
            "right": null,
            "top": null,
            "visibility": null,
            "width": null
          }
        },
        "751ae1cdb380419eadce0409c4efc891": {
          "model_module": "@jupyter-widgets/base",
          "model_name": "LayoutModel",
          "model_module_version": "1.2.0",
          "state": {
            "_model_module": "@jupyter-widgets/base",
            "_model_module_version": "1.2.0",
            "_model_name": "LayoutModel",
            "_view_count": null,
            "_view_module": "@jupyter-widgets/base",
            "_view_module_version": "1.2.0",
            "_view_name": "LayoutView",
            "align_content": null,
            "align_items": null,
            "align_self": null,
            "border": null,
            "bottom": null,
            "display": null,
            "flex": null,
            "flex_flow": null,
            "grid_area": null,
            "grid_auto_columns": null,
            "grid_auto_flow": null,
            "grid_auto_rows": null,
            "grid_column": null,
            "grid_gap": null,
            "grid_row": null,
            "grid_template_areas": null,
            "grid_template_columns": null,
            "grid_template_rows": null,
            "height": null,
            "justify_content": null,
            "justify_items": null,
            "left": null,
            "margin": null,
            "max_height": null,
            "max_width": null,
            "min_height": null,
            "min_width": null,
            "object_fit": null,
            "object_position": null,
            "order": null,
            "overflow": null,
            "overflow_x": null,
            "overflow_y": null,
            "padding": null,
            "right": null,
            "top": null,
            "visibility": null,
            "width": null
          }
        },
        "2f8902d362b84041b27fbf15cbe1744f": {
          "model_module": "@jupyter-widgets/controls",
          "model_name": "DescriptionStyleModel",
          "model_module_version": "1.5.0",
          "state": {
            "_model_module": "@jupyter-widgets/controls",
            "_model_module_version": "1.5.0",
            "_model_name": "DescriptionStyleModel",
            "_view_count": null,
            "_view_module": "@jupyter-widgets/base",
            "_view_module_version": "1.2.0",
            "_view_name": "StyleView",
            "description_width": ""
          }
        },
        "feb897bab1114d709911ec77b0c4bc55": {
          "model_module": "@jupyter-widgets/base",
          "model_name": "LayoutModel",
          "model_module_version": "1.2.0",
          "state": {
            "_model_module": "@jupyter-widgets/base",
            "_model_module_version": "1.2.0",
            "_model_name": "LayoutModel",
            "_view_count": null,
            "_view_module": "@jupyter-widgets/base",
            "_view_module_version": "1.2.0",
            "_view_name": "LayoutView",
            "align_content": null,
            "align_items": null,
            "align_self": null,
            "border": null,
            "bottom": null,
            "display": null,
            "flex": null,
            "flex_flow": null,
            "grid_area": null,
            "grid_auto_columns": null,
            "grid_auto_flow": null,
            "grid_auto_rows": null,
            "grid_column": null,
            "grid_gap": null,
            "grid_row": null,
            "grid_template_areas": null,
            "grid_template_columns": null,
            "grid_template_rows": null,
            "height": null,
            "justify_content": null,
            "justify_items": null,
            "left": null,
            "margin": null,
            "max_height": null,
            "max_width": null,
            "min_height": null,
            "min_width": null,
            "object_fit": null,
            "object_position": null,
            "order": null,
            "overflow": null,
            "overflow_x": null,
            "overflow_y": null,
            "padding": null,
            "right": null,
            "top": null,
            "visibility": null,
            "width": null
          }
        },
        "6d79b6d901cc47bcad16b359792964ea": {
          "model_module": "@jupyter-widgets/controls",
          "model_name": "ProgressStyleModel",
          "model_module_version": "1.5.0",
          "state": {
            "_model_module": "@jupyter-widgets/controls",
            "_model_module_version": "1.5.0",
            "_model_name": "ProgressStyleModel",
            "_view_count": null,
            "_view_module": "@jupyter-widgets/base",
            "_view_module_version": "1.2.0",
            "_view_name": "StyleView",
            "bar_color": null,
            "description_width": ""
          }
        },
        "c171fe8e50304eb3af15f108ecd2718a": {
          "model_module": "@jupyter-widgets/base",
          "model_name": "LayoutModel",
          "model_module_version": "1.2.0",
          "state": {
            "_model_module": "@jupyter-widgets/base",
            "_model_module_version": "1.2.0",
            "_model_name": "LayoutModel",
            "_view_count": null,
            "_view_module": "@jupyter-widgets/base",
            "_view_module_version": "1.2.0",
            "_view_name": "LayoutView",
            "align_content": null,
            "align_items": null,
            "align_self": null,
            "border": null,
            "bottom": null,
            "display": null,
            "flex": null,
            "flex_flow": null,
            "grid_area": null,
            "grid_auto_columns": null,
            "grid_auto_flow": null,
            "grid_auto_rows": null,
            "grid_column": null,
            "grid_gap": null,
            "grid_row": null,
            "grid_template_areas": null,
            "grid_template_columns": null,
            "grid_template_rows": null,
            "height": null,
            "justify_content": null,
            "justify_items": null,
            "left": null,
            "margin": null,
            "max_height": null,
            "max_width": null,
            "min_height": null,
            "min_width": null,
            "object_fit": null,
            "object_position": null,
            "order": null,
            "overflow": null,
            "overflow_x": null,
            "overflow_y": null,
            "padding": null,
            "right": null,
            "top": null,
            "visibility": null,
            "width": null
          }
        },
        "e0a6f84b32f445c9930c0fd5f88922e2": {
          "model_module": "@jupyter-widgets/controls",
          "model_name": "DescriptionStyleModel",
          "model_module_version": "1.5.0",
          "state": {
            "_model_module": "@jupyter-widgets/controls",
            "_model_module_version": "1.5.0",
            "_model_name": "DescriptionStyleModel",
            "_view_count": null,
            "_view_module": "@jupyter-widgets/base",
            "_view_module_version": "1.2.0",
            "_view_name": "StyleView",
            "description_width": ""
          }
        }
      }
    }
  },
  "nbformat": 4,
  "nbformat_minor": 0
}